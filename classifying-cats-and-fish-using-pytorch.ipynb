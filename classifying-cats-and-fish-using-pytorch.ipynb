{
 "cells": [
  {
   "cell_type": "markdown",
   "id": "8fa8a4f8",
   "metadata": {},
   "source": [
    "# Image Classification Using PyTorch\n",
    "\n",
    "Here, we construct a basic classifier that distinguishes between cats and fish. To make our model increasingly accurate, we will be refining the design and construction process.\n",
    "\n"
   ]
  },
  {
   "cell_type": "markdown",
   "id": "028fc89b",
   "metadata": {},
   "source": [
    "Let’s look at the dataset first. Every dataset, no matter whether it includes images, audio, text, 3D landscapes, stock market information, or whatever, can interact with PyTorch if it satisfies this abstract Python class:"
   ]
  },
  {
   "cell_type": "code",
   "execution_count": null,
   "id": "7bd2cb8e",
   "metadata": {},
   "outputs": [],
   "source": [
    "class Dataset(object):\n",
    "    deg __getitem__(self, index):\n",
    "        raise NotImplementedError\n",
    "    def __len__(self):\n",
    "        raise NotImplementedError"
   ]
  },
  {
   "cell_type": "markdown",
   "id": "be87f46f",
   "metadata": {},
   "source": [
    "We have to implement a method that returns the size of our dataset (len), and implement a method that can retrieve an item from our dataset in a (label, tensor) pair. This is called by the data loader as it is pushing data into the neural network for training. So we have to write a body for getitem that can take an image and transform it into a tensor and return that and the label back so PyTorch can operate on it."
   ]
  },
  {
   "cell_type": "markdown",
   "id": "f0eb415c",
   "metadata": {},
   "source": [
    "## Building a Training Dataset\n",
    "The torchvision package includes a class called ImageFolder that does pretty much everything for us, providing our images are in a structure where each directory is a label"
   ]
  },
  {
   "cell_type": "code",
   "execution_count": 2,
   "id": "bb161e75",
   "metadata": {},
   "outputs": [],
   "source": [
    "import torchvision    # import torchvision\n",
    "from torchvision import transforms    # import the transformer\n",
    "\n",
    "# create a data path for the train data\n",
    "train_data_path = './train/'\n",
    "\n",
    "# Create the tranformer for transforming the data to tensors\n",
    "train_transformer  = transforms.Compose([\n",
    "    transforms.Resize(64),\n",
    "    transforms.ToTensor(),\n",
    "    transforms.Normalize(mean=[0.485, 0.456, 0.406],\n",
    "                        std = [0.229, 0.224, 0.225])\n",
    "])"
   ]
  },
  {
   "cell_type": "code",
   "execution_count": null,
   "id": "9054f582",
   "metadata": {},
   "outputs": [],
   "source": []
  }
 ],
 "metadata": {
  "kernelspec": {
   "display_name": "Python 3 (ipykernel)",
   "language": "python",
   "name": "python3"
  },
  "language_info": {
   "codemirror_mode": {
    "name": "ipython",
    "version": 3
   },
   "file_extension": ".py",
   "mimetype": "text/x-python",
   "name": "python",
   "nbconvert_exporter": "python",
   "pygments_lexer": "ipython3",
   "version": "3.10.9"
  }
 },
 "nbformat": 4,
 "nbformat_minor": 5
}
